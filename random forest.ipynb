{
  "cells": [
    {
      "cell_type": "markdown",
      "metadata": {
        "id": "rtKGOh5zNmPC"
      },
      "source": [
        "## Importing the libraries\n"
      ]
    },
    {
      "cell_type": "code",
      "execution_count": null,
      "metadata": {
        "id": "DMKkjTLBNmPE"
      },
      "outputs": [],
      "source": [
        "import pandas as pd\n",
        "import numpy as np\n",
        "\n",
        "# For ploting the graphs\n",
        "import matplotlib.pyplot as plt\n",
        "import seaborn as sns\n",
        "import csv\n",
        "\n",
        "from sklearn.model_selection import train_test_split\n",
        "from sklearn.preprocessing import StandardScaler\n",
        "\n",
        "# Machine learning Model\n",
        "from sklearn.ensemble import RandomForestClassifier\n",
        "from sklearn.linear_model import LogisticRegression\n",
        "from sklearn.svm import SVC\n",
        "from sklearn.neural_network import MLPClassifier\n",
        "\n",
        "# Machine learning model evaluation\n",
        "from sklearn.metrics import accuracy_score, f1_score, precision_score, recall_score, roc_curve, auc, confusion_matrix\n",
        "\n",
        "\n",
        "from sklearn.metrics import roc_curve, auc\n",
        "from sklearn.preprocessing import label_binarize\n",
        "from itertools import cycle"
      ]
    },
    {
      "cell_type": "code",
      "execution_count": null,
      "metadata": {
        "id": "ZHin6oGxNmPH"
      },
      "outputs": [],
      "source": [
        "df=pd.read_csv(\"DDos.csv\")"
      ]
    },
    {
      "cell_type": "markdown",
      "metadata": {
        "id": "KPoEgnIYNmPI"
      },
      "source": [
        "## Data Preprocessing"
      ]
    },
    {
      "cell_type": "code",
      "execution_count": null,
      "metadata": {
        "colab": {
          "base_uri": "https://localhost:8080/",
          "height": 245
        },
        "id": "7N6VZzSlNmPJ",
        "outputId": "e559cb34-3e4d-4219-b169-c9a230e199a7"
      },
      "outputs": [],
      "source": [
        "df.head(3)"
      ]
    },
    {
      "cell_type": "code",
      "execution_count": null,
      "metadata": {
        "id": "CkPDCMEDNmPK"
      },
      "outputs": [],
      "source": [
        "# Remove the spaces before the column names\n",
        "df.columns = df.columns.str.strip()"
      ]
    },
    {
      "cell_type": "code",
      "execution_count": null,
      "metadata": {
        "colab": {
          "base_uri": "https://localhost:8080/"
        },
        "id": "Vgar1pEWNmPL",
        "outputId": "5d9cacb4-9d63-4522-a2fa-fdfcf0d3f475"
      },
      "outputs": [],
      "source": [
        "#Unique values in the Label target column\n",
        "\n",
        "df.loc[:,'Label'].unique()"
      ]
    },
    {
      "cell_type": "code",
      "execution_count": null,
      "metadata": {
        "colab": {
          "base_uri": "https://localhost:8080/",
          "height": 410
        },
        "id": "wRm2eg50NmPM",
        "outputId": "c6584142-b2eb-43b9-9676-d83d0ef697d5"
      },
      "outputs": [],
      "source": [
        "#Checking the null values in the dataset.\n",
        "plt.figure(1,figsize=( 10,4))\n",
        "plt.hist( df.isna().sum())\n",
        "# Set the title and axis labels\n",
        "plt.xticks([0, 1], labels=['Not Null=0', 'Null=1'])\n",
        "plt.title('Columns with Null Values')\n",
        "plt.xlabel('Feature')\n",
        "plt.ylabel('The number of features')\n",
        "\n",
        "# Show the plot\n",
        "plt.show()\n"
      ]
    },
    {
      "cell_type": "code",
      "execution_count": null,
      "metadata": {
        "colab": {
          "base_uri": "https://localhost:8080/",
          "height": 569
        },
        "id": "bRgm2dlkNmPN",
        "outputId": "561d3592-afd3-46e4-8988-8ca8eeae0e69"
      },
      "outputs": [],
      "source": [
        "def plotMissingValues(dataframe):\n",
        "    missing_values = dataframe.isnull().sum()  # Counting null values for each column\n",
        "    fig = plt.figure(figsize=(16, 5))\n",
        "    missing_values.plot(kind='bar')\n",
        "    plt.xlabel(\"Features\")\n",
        "    plt.ylabel(\"Missing values\")\n",
        "    plt.title(\"Total number of Missing values in each feature\")\n",
        "    plt.show()\n",
        "\n",
        "plotMissingValues(df)\n"
      ]
    },
    {
      "cell_type": "code",
      "execution_count": null,
      "metadata": {
        "id": "9rJYiDCjNmPO"
      },
      "outputs": [],
      "source": [
        "## Removing the null values\n",
        "data_f=df.dropna()"
      ]
    },
    {
      "cell_type": "code",
      "execution_count": null,
      "metadata": {
        "colab": {
          "base_uri": "https://localhost:8080/",
          "height": 410
        },
        "id": "9u3P52-1NmPP",
        "outputId": "0358cdcb-9ecb-4981-9d6a-c414db0fd53e"
      },
      "outputs": [],
      "source": [
        "#Checking the null values in the dataset.\n",
        "plt.figure(1,figsize=( 10,4))\n",
        "plt.hist( data_f.isna().sum())\n",
        "# Set the title and axis labels\n",
        "plt.title('Data aftter removing the Null Values')\n",
        "plt.xlabel('The number of null values')\n",
        "plt.ylabel('Number of columns')\n",
        "\n",
        "# Show the plot\n",
        "plt.show()\n"
      ]
    },
    {
      "cell_type": "code",
      "execution_count": null,
      "metadata": {
        "colab": {
          "base_uri": "https://localhost:8080/"
        },
        "id": "-RN19rhxNmPR",
        "outputId": "fdca4cee-8021-4d06-ba1d-fb0c2875f3a1"
      },
      "outputs": [],
      "source": [
        "pd.set_option('use_inf_as_na', True)  # Treat inf as NaN\n",
        "null_values=data_f.isnull().sum()  # Check for NaN values"
      ]
    },
    {
      "cell_type": "code",
      "execution_count": null,
      "metadata": {
        "colab": {
          "base_uri": "https://localhost:8080/",
          "height": 458
        },
        "id": "aCNkC09VNmPR",
        "outputId": "ebbccc1d-9003-4ae1-f44d-28a13e6403ae"
      },
      "outputs": [],
      "source": [
        "# To know the data types of the columns\n",
        "\n",
        "(data_f.dtypes=='object')"
      ]
    },
    {
      "cell_type": "code",
      "execution_count": null,
      "metadata": {
        "colab": {
          "base_uri": "https://localhost:8080/"
        },
        "id": "d5CS7fPQNmPS",
        "outputId": "f20731bc-8daa-4ba7-f2e1-6b6488c689b7"
      },
      "outputs": [],
      "source": [
        "# Convert the labels in the DataFrame to numerical values\n",
        "data_f['Label'] = data_f['Label'].map({'BENIGN': 0, 'DDoS': 1})"
      ]
    },
    {
      "cell_type": "code",
      "execution_count": null,
      "metadata": {
        "colab": {
          "base_uri": "https://localhost:8080/",
          "height": 449
        },
        "id": "SEi2srXLNmPT",
        "outputId": "43145cfb-ac54-4857-9d86-3eb24683f3f5"
      },
      "outputs": [],
      "source": [
        "# Print the DataFrame\n",
        "\n",
        "plt.hist(data_f['Label'], bins=[0, 0.3,0.7,1], edgecolor='black')  # Specify bins as [0, 1]\n",
        "plt.xticks([0, 1], labels=['BENIGN=0', 'DDoS=1'])\n",
        "plt.xlabel(\"Classes\")\n",
        "plt.ylabel(\"Count\")\n",
        "plt.show()"
      ]
    },
    {
      "cell_type": "markdown",
      "metadata": {
        "id": "A_ldWgdnNmPU"
      },
      "source": [
        "## Data exploring"
      ]
    },
    {
      "cell_type": "code",
      "execution_count": null,
      "metadata": {
        "colab": {
          "base_uri": "https://localhost:8080/",
          "height": 384
        },
        "id": "QL09XnP4NmPU",
        "outputId": "96d950f0-fdab-456c-957f-d0d90edc49a4"
      },
      "outputs": [],
      "source": [
        "df.describe()"
      ]
    },
    {
      "cell_type": "markdown",
      "metadata": {
        "id": "olPV8PoONmPV"
      },
      "source": [
        "#### Plot the distribution of the features:"
      ]
    },
    {
      "cell_type": "code",
      "execution_count": null,
      "metadata": {
        "colab": {
          "base_uri": "https://localhost:8080/",
          "height": 1000
        },
        "id": "nELzqiJ9NmPX",
        "outputId": "3e8aec33-db76-4fa0-a046-1ca043e819f5"
      },
      "outputs": [],
      "source": [
        "# Create a histogram plot for each feature\n",
        "plt.figure(5)\n",
        "for col in data_f.columns:\n",
        "    plt.hist(data_f[col])\n",
        "    plt.title(col)\n",
        "    plt.show()"
      ]
    },
    {
      "cell_type": "markdown",
      "metadata": {
        "id": "qTtv8yu2NmPX"
      },
      "source": [
        "## Data splitting into train and test"
      ]
    },
    {
      "cell_type": "code",
      "execution_count": null,
      "metadata": {
        "id": "2-pbJzE-NmPY"
      },
      "outputs": [],
      "source": [
        "# Convert into numpy array\n",
        "\n",
        "#X1=np.array(data_f).astype(np.float64)\n",
        "#y1=np.array(data_f['Label'])\n",
        "\n"
      ]
    },
    {
      "cell_type": "code",
      "execution_count": null,
      "metadata": {
        "id": "Gz3JialJNmPZ"
      },
      "outputs": [],
      "source": [
        "# Split data into features and target variable\n",
        "X = data_f.drop('Label', axis=1)\n",
        "y = data_f['Label']\n",
        "\n",
        "# Split the data into training and testing sets\n",
        "X_train, X_test, y_train, y_test = train_test_split(X, y, test_size=0.30, random_state=42)"
      ]
    },
    {
      "cell_type": "code",
      "execution_count": null,
      "metadata": {
        "colab": {
          "base_uri": "https://localhost:8080/"
        },
        "id": "w8BuyoBvNmPZ",
        "outputId": "db4e5a02-ec9a-44ef-8c75-ec5747afb68f"
      },
      "outputs": [],
      "source": [
        "print(\"The train dataset size = \",X_train.shape)\n",
        "print(\"The test dataset size = \",X_test.shape)"
      ]
    },
    {
      "cell_type": "markdown",
      "metadata": {
        "id": "ovgb16-sNmPa"
      },
      "source": [
        "# ----------------------------Training the model--------------------------------"
      ]
    },
    {
      "cell_type": "markdown",
      "metadata": {
        "id": "CfsfPwoqNmPa"
      },
      "source": [
        "### Random Forest"
      ]
    },
    {
      "cell_type": "code",
      "execution_count": null,
      "metadata": {
        "colab": {
          "base_uri": "https://localhost:8080/",
          "height": 80
        },
        "id": "EavQl0LENmPb",
        "outputId": "4a08b156-57f9-4b20-cb31-62ee72b7e440"
      },
      "outputs": [],
      "source": [
        "# Random Forest\n",
        "rf_model = RandomForestClassifier(n_estimators=50, random_state=42)\n",
        "rf_model.fit(X_train, y_train)\n",
        "# rf_pred = rf_model.predict(X_test)"
      ]
    },
    {
      "cell_type": "code",
      "execution_count": null,
      "metadata": {
        "colab": {
          "base_uri": "https://localhost:8080/"
        },
        "id": "DmnXUBTVPH2H",
        "outputId": "44d5e3e2-1c95-483c-ae11-d2cb94a43a52"
      },
      "outputs": [],
      "source": [
        "import joblib\n",
        "# Save the model\n",
        "joblib.dump(rf_model, 'ddos_detection_rf_model.pkl',protocol=4)\n",
        "# Optionally save with compression\n",
        "joblib.dump(rf_model, 'ddos_detection_rf_model_compressed.pkl', compress=3)"
      ]
    },
    {
      "cell_type": "code",
      "execution_count": null,
      "metadata": {
        "id": "U_FlBmzSPOPg"
      },
      "outputs": [],
      "source": [
        "rf_pred = rf_model.predict(X_test)"
      ]
    },
    {
      "cell_type": "code",
      "execution_count": null,
      "metadata": {
        "colab": {
          "base_uri": "https://localhost:8080/",
          "height": 1000
        },
        "id": "pQJ7Yub7NmPc",
        "outputId": "49969c48-7f55-425b-bce9-52a4dfda8141"
      },
      "outputs": [],
      "source": [
        "# Getting feature importances from the trained model\n",
        "importances = rf_model.feature_importances_\n",
        "\n",
        "# Getting the indices of features sorted by importance\n",
        "indices = sorted(range(len(importances)), key=lambda i: importances[i], reverse=False)\n",
        "feature_names = [f\"Features {i}\" for i in indices]  # Replace with your column names\n",
        "\n",
        "# Plotting feature importances horizontally\n",
        "plt.figure(figsize=(8, 14))\n",
        "plt.barh(range(X_train.shape[1]), importances[indices], align=\"center\")\n",
        "plt.yticks(range(X_train.shape[1]), feature_names)\n",
        "plt.xlabel(\"Importance\")\n",
        "plt.title(\"Feature Importances\")\n",
        "plt.show()"
      ]
    },
    {
      "cell_type": "code",
      "execution_count": null,
      "metadata": {
        "colab": {
          "base_uri": "https://localhost:8080/",
          "height": 577
        },
        "id": "pFDWCr3qNmPd",
        "outputId": "b3c5634b-0121-447c-b1b1-c09cf2bd9b84"
      },
      "outputs": [],
      "source": [
        "from sklearn.tree import plot_tree\n",
        "\n",
        "estimator = rf_model.estimators_[0]  # Selecting the first estimator from the random forest model\n",
        "\n",
        "\n",
        "plt.figure(figsize=(20, 10))\n",
        "plot_tree(estimator, filled=True, rounded=True)\n",
        "plt.show()"
      ]
    },
    {
      "cell_type": "markdown",
      "metadata": {
        "id": "vlHxn8AWNmPd"
      },
      "source": [
        "### Model Evaluation"
      ]
    },
    {
      "cell_type": "code",
      "execution_count": null,
      "metadata": {
        "id": "niCd-yG9NmPe"
      },
      "outputs": [],
      "source": [
        "# Function to generate and display a detailed confusion matrix\n",
        "def plot_confusion_matrix(y_true, y_pred, classes, title):\n",
        "    cm = confusion_matrix(y_true, y_pred)\n",
        "    plt.figure(figsize=(8, 6))\n",
        "    sns.heatmap(cm, annot=True, fmt='d', cmap='Blues', xticklabels=classes, yticklabels=classes)\n",
        "    plt.title(title)\n",
        "    plt.xlabel('Predicted')\n",
        "    plt.ylabel('True')\n",
        "    plt.show()"
      ]
    },
    {
      "cell_type": "code",
      "execution_count": null,
      "metadata": {
        "colab": {
          "base_uri": "https://localhost:8080/"
        },
        "id": "19IuPvk_NmPf",
        "outputId": "fee53fa3-234e-4c40-d47b-17f9508bdcb0"
      },
      "outputs": [],
      "source": [
        "# Evaluate Random Forest\n",
        "rf_accuracy = accuracy_score(y_test, rf_pred)\n",
        "rf_f1 = f1_score(y_test, rf_pred)\n",
        "rf_precision = precision_score(y_test, rf_pred)\n",
        "rf_recall = recall_score(y_test, rf_pred)\n",
        "\n",
        "print('\\nRandom Forest Metrics:')\n",
        "print(f'Accuracy: {rf_accuracy:.4f}')\n",
        "print(f'F1 Score: {rf_f1:.4f}')\n",
        "print(f'Precision: {rf_precision:.4f}')\n",
        "print(f'Recall: {rf_recall:.4f}')"
      ]
    },
    {
      "cell_type": "code",
      "execution_count": null,
      "metadata": {
        "colab": {
          "base_uri": "https://localhost:8080/",
          "height": 564
        },
        "id": "kwFxPqVxNmPg",
        "outputId": "3b1f97c0-b9e2-47be-e3a5-d74b2d9af6be"
      },
      "outputs": [],
      "source": [
        "# Confusion Matrix for Random Forest\n",
        "plot_confusion_matrix(y_test, rf_pred, ['Benign', 'DDoS'], 'Random Forest Confusion Matrix')"
      ]
    },
    {
      "cell_type": "markdown",
      "metadata": {
        "id": "eekHQ_RSNmPh"
      },
      "source": [
        "### Logistic Regression"
      ]
    },
    {
      "cell_type": "code",
      "execution_count": null,
      "metadata": {
        "colab": {
          "base_uri": "https://localhost:8080/"
        },
        "id": "maBKFu-ZNmPh",
        "outputId": "d54a737d-8f2a-41b7-a3cb-83e3a58eb04f"
      },
      "outputs": [],
      "source": [
        "lr_model = LogisticRegression(random_state=42)\n",
        "lr_model.fit(X_train, y_train)\n",
        "lr_pred = lr_model.predict(X_test)"
      ]
    },
    {
      "cell_type": "markdown",
      "metadata": {
        "id": "B-e_aFnQNmPi"
      },
      "source": [
        "### Evaluate Logistic Regression"
      ]
    },
    {
      "cell_type": "code",
      "execution_count": null,
      "metadata": {
        "id": "ahH_xTh8NmPj"
      },
      "outputs": [],
      "source": [
        "\n",
        "lr_accuracy = accuracy_score(y_test, lr_pred)\n",
        "lr_f1 = f1_score(y_test, lr_pred)\n",
        "lr_precision = precision_score(y_test, lr_pred)\n",
        "lr_recall = recall_score(y_test, lr_pred)"
      ]
    },
    {
      "cell_type": "code",
      "execution_count": null,
      "metadata": {
        "colab": {
          "base_uri": "https://localhost:8080/"
        },
        "id": "fNVRsnbCNmPk",
        "outputId": "20b5c178-4d76-47bf-abfd-7d8c9f5a80ae"
      },
      "outputs": [],
      "source": [
        "print('\\nLogistic Regression Metrics:')\n",
        "print(f'Accuracy: {lr_accuracy:.4f}')\n",
        "print(f'F1 Score: {lr_f1:.4f}')\n",
        "print(f'Precision: {lr_precision:.4f}')\n",
        "print(f'Recall: {lr_recall:.4f}')\n",
        "\n"
      ]
    },
    {
      "cell_type": "code",
      "execution_count": null,
      "metadata": {
        "colab": {
          "base_uri": "https://localhost:8080/",
          "height": 564
        },
        "id": "4X_n7wDxNmQE",
        "outputId": "f8d6f8e5-6745-4ccd-9f0e-f8958aa37b6b"
      },
      "outputs": [],
      "source": [
        "# Confusion Matrix for Logistic Regression\n",
        "plot_confusion_matrix(y_test, lr_pred, ['Benign', 'DDoS'], 'Logistic Regression Confusion Matrix')\n"
      ]
    },
    {
      "cell_type": "markdown",
      "metadata": {
        "id": "w492RDogNmQF"
      },
      "source": [
        "### Neural Network"
      ]
    },
    {
      "cell_type": "code",
      "execution_count": null,
      "metadata": {
        "colab": {
          "base_uri": "https://localhost:8080/"
        },
        "id": "j2Z-HZRFNmQG",
        "outputId": "718ef3a2-5fe9-41dc-e97c-884b1f6281ab"
      },
      "outputs": [],
      "source": [
        "nn_model = MLPClassifier(hidden_layer_sizes=(10,), max_iter=10, random_state=42)\n",
        "nn_model.fit(X_train, y_train)\n",
        "nn_pred = nn_model.predict(X_test)"
      ]
    },
    {
      "cell_type": "markdown",
      "metadata": {
        "id": "6cT63djUNmQH"
      },
      "source": [
        "### # Evaluate Neural Network"
      ]
    },
    {
      "cell_type": "code",
      "execution_count": null,
      "metadata": {
        "colab": {
          "base_uri": "https://localhost:8080/"
        },
        "id": "j5xrJiFtNmQH",
        "outputId": "fcc426da-5d9a-4143-8ca0-e44d73d5de6e"
      },
      "outputs": [],
      "source": [
        "nn_accuracy = accuracy_score(y_test, nn_pred)\n",
        "nn_f1 = f1_score(y_test, nn_pred)\n",
        "nn_precision = precision_score(y_test, nn_pred)\n",
        "nn_recall = recall_score(y_test, nn_pred)\n",
        "\n",
        "print('\\nNeural Network Metrics:')\n",
        "print(f'Accuracy: {nn_accuracy:.4f}')\n",
        "print(f'F1 Score: {nn_f1:.4f}')\n",
        "print(f'Precision: {nn_precision:.4f}')\n",
        "print(f'Recall: {nn_recall:.4f}')"
      ]
    },
    {
      "cell_type": "code",
      "execution_count": null,
      "metadata": {
        "colab": {
          "base_uri": "https://localhost:8080/",
          "height": 564
        },
        "id": "XimUAwtDNmQI",
        "outputId": "ac7ed536-031d-4306-ef09-3fbfbf812d26"
      },
      "outputs": [],
      "source": [
        "# Confusion Matrix for Neural Network\n",
        "plot_confusion_matrix(y_test, nn_pred, ['Benign', 'DDoS'], 'Neural Network Confusion Matrix')"
      ]
    },
    {
      "cell_type": "markdown",
      "metadata": {
        "id": "gKZQbHUGNmQJ"
      },
      "source": [
        "## Model Comparison"
      ]
    },
    {
      "cell_type": "code",
      "execution_count": null,
      "metadata": {
        "id": "R1O2fVqcNmQJ"
      },
      "outputs": [],
      "source": [
        "# Random Forest\n",
        "rf_proba = rf_model.predict_proba(X_test)\n",
        "\n",
        "# Logistic Regression\n",
        "lr_proba = lr_model.predict_proba(X_test)\n",
        "\n",
        "\n",
        "\n",
        "# Neural Network\n",
        "nn_proba = nn_model.predict_proba(X_test)\n"
      ]
    },
    {
      "cell_type": "code",
      "execution_count": null,
      "metadata": {
        "id": "idbaIPilNmQK"
      },
      "outputs": [],
      "source": [
        "# Combine predictions for ROC curve\n",
        "\n",
        "\n",
        "\n",
        "# Calculate ROC curve for Random Forest\n",
        "rf_fpr, rf_tpr, _ = roc_curve(y_test, rf_proba[:, 1])\n",
        "rf_auc = auc(rf_fpr, rf_tpr)\n",
        "\n",
        "# Calculate ROC curve for Logistic Regression\n",
        "lr_fpr, lr_tpr, _ = roc_curve(y_test, lr_proba[:, 1])\n",
        "lr_auc = auc(lr_fpr, lr_tpr)\n",
        "\n",
        "\n",
        "\n",
        "# Calculate ROC curve for Neural Network\n",
        "nn_fpr, nn_tpr, _ = roc_curve(y_test, nn_proba[:, 1])\n",
        "nn_auc = auc(nn_fpr, nn_tpr)\n"
      ]
    },
    {
      "cell_type": "code",
      "execution_count": null,
      "metadata": {
        "colab": {
          "base_uri": "https://localhost:8080/",
          "height": 564
        },
        "id": "d-zQqZKBNmQL",
        "outputId": "42318698-1245-4384-9b6b-44c99d4f30bc"
      },
      "outputs": [],
      "source": [
        "# Plot ROC curves for all models\n",
        "plt.figure(figsize=(8, 6))\n",
        "plt.plot(rf_fpr, rf_tpr, label=f'Random Forest (AUC = {rf_auc:.2f})')\n",
        "plt.plot(lr_fpr, lr_tpr, label=f'Logistic Regression (AUC = {lr_auc:.2f})')\n",
        "plt.plot(nn_fpr, nn_tpr, label=f'Neural Network (AUC = {nn_auc:.2f})')\n",
        "\n",
        "# Plot ROC curve for random classifier (50% area)\n",
        "plt.plot([0, 1], [0, 1], linestyle='--', color='black', label='Random Classifier (AUC = 0.50)')\n",
        "\n",
        "plt.xlabel('False Positive Rate')\n",
        "plt.ylabel('True Positive Rate')\n",
        "plt.title('Receiver Operating Characteristic (ROC) Curve')\n",
        "plt.legend()\n",
        "plt.grid()\n",
        "plt.show()"
      ]
    },
    {
      "cell_type": "code",
      "execution_count": null,
      "metadata": {
        "id": "xZ3EIFU-NmQM"
      },
      "outputs": [],
      "source": []
    }
  ],
  "metadata": {
    "colab": {
      "provenance": []
    },
    "kernelspec": {
      "display_name": "Python 3",
      "language": "python",
      "name": "python3"
    },
    "language_info": {
      "codemirror_mode": {
        "name": "ipython",
        "version": 3
      },
      "file_extension": ".py",
      "mimetype": "text/x-python",
      "name": "python",
      "nbconvert_exporter": "python",
      "pygments_lexer": "ipython3",
      "version": "3.7.3"
    }
  },
  "nbformat": 4,
  "nbformat_minor": 0
}
